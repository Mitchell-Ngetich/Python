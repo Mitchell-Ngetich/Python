{
 "cells": [
  {
   "cell_type": "code",
   "execution_count": 1,
   "metadata": {},
   "outputs": [],
   "source": [
    "import pandas as pd\n",
    "import matplotlib.pyplot as plt\n",
    "from datasets import load_dataset\n",
    "\n",
    "# #Loading data\n",
    "dataset = load_dataset(\"lukebarousse/data_jobs\")\n",
    "df = dataset[\"train\"].to_pandas()\n",
    "\n",
    "# #Data Cleanup\n",
    "df[\"job_posted_date\"] = pd.to_datetime(df[\"job_posted_date\"])"
   ]
  },
  {
   "cell_type": "code",
   "execution_count": 6,
   "metadata": {},
   "outputs": [],
   "source": [
    "median_salary_year = df[\"salary_year_avg\"].median()"
   ]
  },
  {
   "cell_type": "code",
   "execution_count": 7,
   "metadata": {},
   "outputs": [],
   "source": [
    "median_salary_hour = df[\"salary_hour_avg\"].median()"
   ]
  },
  {
   "cell_type": "code",
   "execution_count": 9,
   "metadata": {},
   "outputs": [],
   "source": [
    "df_filled = df #making a copy and keep original doc\n",
    "\n",
    "df_filled[\"salary_year_avg\"] = df_filled[\"salary_year_avg\"].fillna(median_salary_year) #filling NaN with median value\n",
    "df_filled[\"salary_hour_avg\"] = df_filled[\"salary_hour_avg\"].fillna(median_salary_hour)"
   ]
  },
  {
   "cell_type": "code",
   "execution_count": null,
   "metadata": {},
   "outputs": [],
   "source": [
    "df_filled.loc[:10, \"salary_year_avg\":\"salary_hour_avg\"]"
   ]
  },
  {
   "cell_type": "code",
   "execution_count": 13,
   "metadata": {},
   "outputs": [
    {
     "name": "stdout",
     "output_type": "stream",
     "text": [
      "785741\n",
      "785640\n",
      "101\n"
     ]
    }
   ],
   "source": [
    "df_unique = df_filled\n",
    "df_unique = df_unique.drop_duplicates() #dropping duplicate rows\n",
    "\n",
    "print(len(df_filled))\n",
    "print(len(df_unique))\n",
    "print(len(df_filled) - len(df_unique))"
   ]
  },
  {
   "cell_type": "code",
   "execution_count": 14,
   "metadata": {},
   "outputs": [
    {
     "name": "stdout",
     "output_type": "stream",
     "text": [
      "785741\n",
      "508042\n",
      "277699\n"
     ]
    }
   ],
   "source": [
    "df_unique = df_unique.drop_duplicates(subset=[\"job_title\", \"company_name\"])\n",
    "print(len(df_filled))\n",
    "print(len(df_unique))\n",
    "print(len(df_filled) - len(df_unique))"
   ]
  }
 ],
 "metadata": {
  "kernelspec": {
   "display_name": "analysis_course",
   "language": "python",
   "name": "python3"
  },
  "language_info": {
   "codemirror_mode": {
    "name": "ipython",
    "version": 3
   },
   "file_extension": ".py",
   "mimetype": "text/x-python",
   "name": "python",
   "nbconvert_exporter": "python",
   "pygments_lexer": "ipython3",
   "version": "3.11.11"
  }
 },
 "nbformat": 4,
 "nbformat_minor": 2
}
